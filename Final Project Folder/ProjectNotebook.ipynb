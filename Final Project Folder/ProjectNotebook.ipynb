{
 "cells": [
  {
   "cell_type": "markdown",
   "metadata": {},
   "source": [
    "# Project Description"
   ]
  },
  {
   "cell_type": "markdown",
   "metadata": {},
   "source": [
    "* I wanted to create a class Card that has a suit attribute and a value attribute that I can then use later in my Deck class. Additionally, I wanted you to be able to create your own valid Cards to perhaps make your own list of Cards if you did not want to use a full deck\n",
    "\n",
    "* I created a class Deck that builds a full deck of 52 standard playing cards with their valid suits and values. The Deck object allows you to draw any number of cards randomly from the deck and removes them from the available cards to draw. The cards you drew are then added to a draw pile. You can view the cards that have been drawn from the deck as well as the remaining cards left in the deck. At any point you can restack the deck to be a full deck and get rid of all of the drawn cards if you are done using them."
   ]
  },
  {
   "cell_type": "markdown",
   "metadata": {},
   "source": [
    "## Project Code\n",
    "\n",
    "If it makes sense for your project, you can have code and outputs here in the notebook as well."
   ]
  },
  {
   "cell_type": "code",
   "execution_count": 3,
   "metadata": {},
   "outputs": [],
   "source": [
    "# Since my project uses Classes and Functions, Prof Ellis told me to just rename functions.py to module.py and \n",
    "# to include all of my functions and classes in module.py\n",
    "from my_module.module import *"
   ]
  },
  {
   "cell_type": "code",
   "execution_count": 4,
   "metadata": {},
   "outputs": [
    {
     "name": "stdout",
     "output_type": "stream",
     "text": [
      "('2', 'Diamonds')\n",
      "('6', 'Hearts')\n"
     ]
    }
   ],
   "source": [
    "# let's draw 2 cards here to see what we would have gotten if we were playing blackjack. Run this code to draw 2 cards\n",
    "Deck = Deck()\n",
    "Deck.draw(2)\n",
    "Deck.show_drawn()"
   ]
  },
  {
   "cell_type": "code",
   "execution_count": 9,
   "metadata": {},
   "outputs": [
    {
     "name": "stdout",
     "output_type": "stream",
     "text": [
      "Guess the Suit: Diamonds\n",
      "('4', 'Diamonds')\n",
      "You guessed the right value!\n"
     ]
    }
   ],
   "source": [
    "# Lets play a simple game. Run the code below to draw a card and guess one of the Suits to see if they are the same\n",
    "guess_suit()"
   ]
  },
  {
   "cell_type": "code",
   "execution_count": 1,
   "metadata": {},
   "outputs": [],
   "source": []
  }
 ],
 "metadata": {
  "kernelspec": {
   "display_name": "Python 3",
   "language": "python",
   "name": "python3"
  },
  "language_info": {
   "codemirror_mode": {
    "name": "ipython",
    "version": 3
   },
   "file_extension": ".py",
   "mimetype": "text/x-python",
   "name": "python",
   "nbconvert_exporter": "python",
   "pygments_lexer": "ipython3",
   "version": "3.7.6"
  }
 },
 "nbformat": 4,
 "nbformat_minor": 2
}
